{
 "cells": [
  {
   "cell_type": "markdown",
   "source": [
    "# **ETPoF** Homework 3\n",
    "Annemarie Linnenbank & Tommie Verouden\n",
    "\n",
    "*22 March 2024*"
   ],
   "metadata": {
    "collapsed": false
   },
   "id": "535069f71e1626d6"
  },
  {
   "cell_type": "markdown",
   "source": [
    "## Particle Tracking (25 points)\n",
    "### 1) **Calibration** (3 pts)"
   ],
   "metadata": {
    "collapsed": false
   },
   "id": "21ef5407e0ae61e"
  },
  {
   "cell_type": "markdown",
   "source": [
    "Assume that the background noise is the same throughout the image, and the vertical line has an angle of 0° (which, on \n",
    "closer inspection, is the case)."
   ],
   "metadata": {
    "collapsed": false
   },
   "id": "faa9252c60d2c57a"
  },
  {
   "cell_type": "code",
   "outputs": [
    {
     "name": "stderr",
     "output_type": "stream",
     "text": [
      "100%|██████████| 2/2 [00:00<00:00, 183.02it/s]"
     ]
    },
    {
     "name": "stdout",
     "output_type": "stream",
     "text": [
      "The average resolution is 4.88918152 mm/px,\n",
      "with a standard deviation of 0.00183618 mm/px (0.0375559 %).\n",
      "The average resolution is 4.88946346 mm/px,\n",
      "with a standard deviation of 0.00167924 mm/px (0.034344 %).\n"
     ]
    },
    {
     "name": "stderr",
     "output_type": "stream",
     "text": [
      "\n"
     ]
    }
   ],
   "source": [
    "import etpof\n",
    "\n",
    "res_avg, res_std = etpof.calibrate_cameras('PTV', roi=[200, 250, 30, 670], \n",
    "                                           calib_dist=500, threshold=60,\n",
    "                                           file_prefix='Calibration_', \n",
    "                                           verbose=True, plot=False,\n",
    "                                           precision=8)\n",
    "\n",
    "# TODO: Check average heigh offset compared beteen the two cameras"
   ],
   "metadata": {
    "collapsed": false,
    "ExecuteTime": {
     "end_time": "2024-03-15T13:01:51.029412Z",
     "start_time": "2024-03-15T13:01:51.014330Z"
    }
   },
   "id": "2230a391d632126b",
   "execution_count": 2
  }
 ],
 "metadata": {
  "kernelspec": {
   "display_name": "Python 3",
   "language": "python",
   "name": "python3"
  },
  "language_info": {
   "codemirror_mode": {
    "name": "ipython",
    "version": 2
   },
   "file_extension": ".py",
   "mimetype": "text/x-python",
   "name": "python",
   "nbconvert_exporter": "python",
   "pygments_lexer": "ipython2",
   "version": "2.7.6"
  }
 },
 "nbformat": 4,
 "nbformat_minor": 5
}
