{
 "cells": [
  {
   "cell_type": "code",
   "execution_count": 2,
   "id": "initial_id",
   "metadata": {
    "collapsed": true,
    "ExecuteTime": {
     "end_time": "2024-03-15T17:16:13.627847Z",
     "start_time": "2024-03-15T17:16:13.132887Z"
    }
   },
   "outputs": [],
   "source": [
    "import matplotlib.pyplot as plt\n",
    "import cv2 as cv\n",
    "import numpy as np\n",
    "from scipy import ndimage\n",
    "from scipy.optimize import curve_fit\n",
    "import etpof\n",
    "from tqdm import tqdm\n",
    "\n",
    "# %matplotlib widget"
   ]
  },
  {
   "cell_type": "code",
   "outputs": [],
   "source": [
    "res_avg = np.mean([4.88918152, 4.88946346])\n",
    "res_std = np.mean([0.00183618, 0.00167924])"
   ],
   "metadata": {
    "collapsed": false,
    "ExecuteTime": {
     "end_time": "2024-03-15T17:16:14.469635Z",
     "start_time": "2024-03-15T17:16:14.467111Z"
    }
   },
   "id": "1fdeddbfa565fb26",
   "execution_count": 3
  },
  {
   "cell_type": "code",
   "outputs": [
    {
     "name": "stderr",
     "output_type": "stream",
     "text": [
      "100%|██████████| 200/200 [00:00<00:00, 237.41it/s]\n"
     ]
    }
   ],
   "source": [
    "imgs, files = etpof.read_image_series('PTV', 'a')"
   ],
   "metadata": {
    "collapsed": false,
    "ExecuteTime": {
     "end_time": "2024-03-15T17:16:16.556837Z",
     "start_time": "2024-03-15T17:16:15.699337Z"
    }
   },
   "id": "75d6778ea8bfef0b",
   "execution_count": 4
  },
  {
   "cell_type": "code",
   "outputs": [],
   "source": [
    "def remove_hits(img, mode):\n",
    "    \n",
    "    # Define different kernels\n",
    "    if mode == 'single':\n",
    "        kernel = np.array([[ 0, -1,  0],\n",
    "                           [-1, +1, -1],\n",
    "                           [ 0, -1,  0]])\n",
    "    elif mode == 'horizontal':\n",
    "        kernel = np.array([[ -1, -1,  -1],\n",
    "                           [ 0, +1,  0],\n",
    "                           [ -1, -1,  -1]])\n",
    "    elif mode == 'vertical':\n",
    "        kernel = np.array([[ -1,  0,  -1],\n",
    "                           [-1, +1, -1],\n",
    "                           [ -1,  0,  -1]])\n",
    "    else:\n",
    "        raise ValueError('Mode not recognized')\n",
    "    \n",
    "    # Binarize the image\n",
    "    img_binary = cv.threshold(img, 0, 255, cv.THRESH_BINARY)[1]\n",
    "    \n",
    "    # Perform a hit-or-miss transform on a binary version to remove matching pixels\n",
    "    img_singles = cv.morphologyEx(img_binary, cv.MORPH_HITMISS, kernel)\n",
    "    \n",
    "    # Edit the original image\n",
    "    img[img_singles == 255] = 0\n",
    "    \n",
    "    return img\n",
    "\n",
    "\n",
    "def remove_background(img, sigma_color1 = 50, sigma_space1 = 9,\n",
    "                      sigma_color2 = 20, sigma_space2 = 3, noise_threshold=50):\n",
    "    \n",
    "    # TODO: Explain that masking might have been easier\n",
    "    \n",
    "    # # If the image has three channels, convert it to grayscale\n",
    "    # if len(img.shape) == 3:\n",
    "    #     img = cv.cvtColor(img, cv.COLOR_BGR2GRAY)\n",
    "    \n",
    "    # Apply a bilateral filter to TODO: explain how the bilateral filter works\n",
    "    img_proc = cv.bilateralFilter(img, d=-1, sigmaColor=sigma_color1, sigmaSpace=sigma_space1)\n",
    "    \n",
    "    # Apply another bilateral filter for finer detail removal\n",
    "    img_proc = cv.bilateralFilter(img_proc, d=-1, sigmaColor=sigma_color2, sigmaSpace=sigma_space2)\n",
    "\n",
    "    # Set all pixels below a certain threshold to zero with a to-zero threshold\n",
    "    _, img_proc = cv.threshold(img_proc, noise_threshold, 255, cv.THRESH_TOZERO)\n",
    "\n",
    "    # Remove a bunch of specific patterns\n",
    "    img_proc = remove_hits(img_proc, 'horizontal')\n",
    "    img_proc = remove_hits(img_proc, 'vertical')\n",
    "\n",
    "    return img_proc"
   ],
   "metadata": {
    "collapsed": false,
    "ExecuteTime": {
     "end_time": "2024-03-15T17:16:23.902428Z",
     "start_time": "2024-03-15T17:16:23.897356Z"
    }
   },
   "id": "9bb07c56d0755655",
   "execution_count": 5
  },
  {
   "cell_type": "code",
   "outputs": [
    {
     "name": "stderr",
     "output_type": "stream",
     "text": [
      "100%|██████████| 200/200 [00:02<00:00, 70.88it/s]\n"
     ]
    }
   ],
   "source": [
    "imgs_nobg = [remove_background(img) for img in tqdm(imgs)]"
   ],
   "metadata": {
    "collapsed": false,
    "ExecuteTime": {
     "end_time": "2024-03-15T17:16:28.606671Z",
     "start_time": "2024-03-15T17:16:25.781762Z"
    }
   },
   "id": "86c94cb1a5a2a31",
   "execution_count": 6
  },
  {
   "cell_type": "code",
   "outputs": [
    {
     "data": {
      "text/plain": "<Figure size 800x800 with 2 Axes>",
      "image/png": "[encoded data removed]"
     },
     "metadata": {},
     "output_type": "display_data"
    }
   ],
   "source": [
    "# Show the image and the processed image next to each other\n",
    "fig, ax = plt.subplots(1,2, figsize = (8, 8))\n",
    "ax[0].imshow(imgs[48], cmap = 'gray')\n",
    "ax[1].imshow(imgs_nobg[48], cmap = 'gray')\n",
    "ax[0].set_xlim(110, 130); ax[0].set_ylim(390, 370)\n",
    "ax[1].set_xlim(110, 130); ax[1].set_ylim(390, 370)\n",
    "plt.show()"
   ],
   "metadata": {
    "collapsed": false,
    "ExecuteTime": {
     "end_time": "2024-03-15T17:16:29.319958Z",
     "start_time": "2024-03-15T17:16:29.222104Z"
    }
   },
   "id": "25b76db135b824d0",
   "execution_count": 7
  },
  {
   "cell_type": "code",
   "outputs": [],
   "source": [
    "# # Draw the contours with random colours\n",
    "# img_cnt = img_rgb.copy()\n",
    "# for cnt in cnts:\n",
    "#     color = np.random.randint(85, 255, 3, dtype=np.uint8)\n",
    "#     img_cnt = cv.drawContours(img_cnt, cnt, -1, \n",
    "#                                (int(color[0]), int(color[1]), int(color[2])), 2)"
   ],
   "metadata": {
    "collapsed": false,
    "ExecuteTime": {
     "end_time": "2024-03-15T16:20:16.853825Z",
     "start_time": "2024-03-15T16:20:16.852071Z"
    }
   },
   "id": "3ae09fea7134d035",
   "execution_count": 7
  },
  {
   "cell_type": "code",
   "outputs": [],
   "source": [
    "def find_local_max(all_idxs, all_ints):\n",
    "    # Maximum filter on this (processed) region\n",
    "    peak_intensities = ndimage.maximum_filter(all_ints, size=3)\n",
    "    \n",
    "    # Filter out maxima of 0 at the edges\n",
    "    peak_intensities = np.where(peak_intensities == 0, -1, peak_intensities)\n",
    "    \n",
    "    # Get indices\n",
    "    peak_indices = all_idxs[:, all_ints == peak_intensities]\n",
    "    \n",
    "    # Get the intensities of the maxima\n",
    "    peak_intensities = all_ints[all_ints == peak_intensities]\n",
    "    \n",
    "    # If no maxima were detected\n",
    "    if peak_indices.shape[1] == 0:\n",
    "        # Raise an exception\n",
    "        raise ValueError('No maxima detected')\n",
    "\n",
    "    return peak_indices, peak_intensities\n",
    "\n",
    "\n",
    "def remove_sublists(list_of_lists):\n",
    "    \"\"\"\n",
    "    Remove sublists and duplicates from a list of lists.\n",
    "    Source: https://www.geeksforgeeks.org/python-remove-sublists-that-are-present-in-another-sublist/\n",
    "    \n",
    "    ARGUMENTS:\n",
    "        list_of_lists: list of lists (might be inhomogeneous)\n",
    "    \n",
    "    RETURNS:\n",
    "        results: list of lists with sublists removed\n",
    "    \"\"\"\n",
    "    \n",
    "    # Convert each element to a set and sort by descending length\n",
    "    current_sublist = []\n",
    "    results = []   \n",
    "    for element in sorted(map(set, list_of_lists), key = len, reverse = True):\n",
    "        \n",
    "        # Add only sets that are not already part of current_sublist\n",
    "        if not any(element <= number for number in current_sublist):\n",
    "            current_sublist.append(element)\n",
    "            results.append(list(element))\n",
    "         \n",
    "    return results\n",
    "\n",
    "\n",
    "def split_clusters(peak_idxs, neighbor_dist=1.5):\n",
    "    \n",
    "    # Check the Euclidian distances between the maxima\n",
    "    dists = etpof.all_distances(peak_idxs[0, :], peak_idxs[1, :])\n",
    "    \n",
    "    # Get the indices of all the groups that are within a certain distance\n",
    "    peak_clusters = [[i for i, val in enumerate(dists[:, col]) \n",
    "                 if val < neighbor_dist] for col in range(dists.shape[1])]\n",
    "    \n",
    "    # Remove subsets and duplicates\n",
    "    peak_clusters = remove_sublists(peak_clusters)\n",
    "       \n",
    "    return peak_clusters\n",
    "\n",
    "# def gaussian_peak"
   ],
   "metadata": {
    "collapsed": false,
    "ExecuteTime": {
     "end_time": "2024-03-15T17:16:33.445675Z",
     "start_time": "2024-03-15T17:16:33.439657Z"
    }
   },
   "id": "54c13d6f7664db76",
   "execution_count": 8
  },
  {
   "cell_type": "code",
   "outputs": [],
   "source": [
    "def destroy_neighbors(all_idxs, all_ints, peak_idxs, peak_ints, max_iter=3):\n",
    "      \n",
    "    # If there are (still) neighbors in the set of maxima...\n",
    "    iteration = 1\n",
    "    while peak_idxs.shape[1] > 1:\n",
    "\n",
    "        # Perform a small Gaussian blur on the region\n",
    "        all_ints = cv.GaussianBlur(all_ints, (3, 3), 0, \n",
    "                                   borderType=cv.BORDER_CONSTANT)\n",
    "\n",
    "        # Get the new local maxima\n",
    "        peak_idxs, peak_ints = find_local_max(all_idxs, all_ints)\n",
    "        \n",
    "        # Count the number of iterations\n",
    "        iteration += 1\n",
    "        \n",
    "        # If the max number of iterations is reached...\n",
    "        if iteration >= max_iter:\n",
    "            # Throw a warning\n",
    "            print('Maximum number of blurring iterations reached...')\n",
    "            \n",
    "            # Pick the first maximum and break the loop\n",
    "            peak_idxs = peak_idxs[:, [0]]\n",
    "            peak_ints = peak_ints[[0]]\n",
    "            break\n",
    "        \n",
    "    return peak_idxs, peak_ints"
   ],
   "metadata": {
    "collapsed": false,
    "ExecuteTime": {
     "end_time": "2024-03-15T17:16:35.604235Z",
     "start_time": "2024-03-15T17:16:35.600709Z"
    }
   },
   "id": "5861ff22b4afa42",
   "execution_count": 9
  },
  {
   "cell_type": "code",
   "outputs": [
    {
     "name": "stdout",
     "output_type": "stream",
     "text": [
      "[[2 5 6 6]\n",
      " [3 1 1 2]]\n",
      "[[1, 2, 3], [0]]\n",
      "[[5 6 6]\n",
      " [1 1 2]]\n",
      "[220 220 220]\n",
      "Maximum number of blurring iterations reached...\n",
      "[[2]\n",
      " [3]]\n",
      "[220]\n"
     ]
    },
    {
     "data": {
      "text/plain": "<Figure size 640x480 with 1 Axes>",
      "image/png": "[encoded data removed]"
     },
     "metadata": {},
     "output_type": "display_data"
    }
   ],
   "source": [
    "def find_particle_center(img, img_nobg, cnts, cnt_idx, neighbor_dist=1.5, plot=False,\n",
    "                         box_marg = 2):\n",
    "    \n",
    "    cnt = cnts[cnt_idx]\n",
    "    \n",
    "    # Get the bounding box of the contour\n",
    "    box_x, box_z, box_w, box_h = cv.boundingRect(cnt)\n",
    "    \n",
    "    # Get the intensities of the pixels in the bounding box + margin as a 2D array\n",
    "    all_ints = (img[(box_z - box_marg):(box_z + box_h + box_marg),\n",
    "                    (box_x - box_marg):(box_x + box_w + box_marg)]\n",
    "                    .reshape(box_h + 2 * box_marg, box_w + 2 * box_marg))\n",
    "    all_ints_nobg = (img_nobg[(box_z):(box_z + box_h),\n",
    "                    (box_x):(box_x + box_w)]\n",
    "                    .reshape(box_h, box_w))\n",
    "       \n",
    "    # TODO: Set pixels that are on another contour to zero\n",
    "    # cnts_other = [c for c in cnts if c is not cnt]\n",
    "    # mask = np.zeros_like(box_int)\n",
    "    # mask = cv.drawContours(mask, cnts[4], -1, 255, -1)\n",
    "    # box_int = np.where(mask != 255, box_int, 0)\n",
    "    \n",
    "    # Get the image coordinates corresponding to each of these pixels\n",
    "    all_idxs_nobg = np.indices((box_h, box_w))\n",
    "    \n",
    "    # Get the local maxima in the region\n",
    "    peak_idxs, peak_ints = find_local_max(all_idxs_nobg, all_ints_nobg)\n",
    "            \n",
    "    # Split into groups\n",
    "    clusters = split_clusters(peak_idxs, neighbor_dist=neighbor_dist)\n",
    "    \n",
    "    print(peak_idxs)\n",
    "    print(clusters)\n",
    "    \n",
    "    # Set up plot of the unprocessed box\n",
    "    if plot:\n",
    "        fig, ax = plt.subplots()\n",
    "        # Draw the contour\n",
    "        # img_cnt = img_nobg.copy()\n",
    "        # img_cnt = cv.drawContours(img_cnt, [cnt], -1, 255, 1)\n",
    "        # ax.imshow(img_cnt, cmap = 'gray')\n",
    "        ax.imshow(img, cmap = 'gray')\n",
    "        ax.invert_yaxis()\n",
    "        ax.set_xlim(box_x - box_marg - 0.5, box_x + box_w + box_marg + 0.5)\n",
    "        ax.set_ylim(box_z + box_h + box_marg + 0.5, box_z - box_marg - 0.5)\n",
    "    \n",
    "        # Plot all maxima found originally\n",
    "        peak_coords = peak_idxs + np.array([box_z, box_x])[:, None]\n",
    "        ax.scatter(*np.flipud(peak_coords), c ='b', s = 75, marker = 's',\n",
    "                   alpha=0.2, label = 'Local max pixels')\n",
    "    \n",
    "    \n",
    "    # For each cluster (might only be one in many cases)...\n",
    "    x_max, z_max = [], []\n",
    "    for cluster in clusters:\n",
    "        \n",
    "        peak_idx = peak_idxs[:, cluster]\n",
    "        print(peak_idx)\n",
    "        peak_int = peak_ints[cluster]\n",
    "        print(peak_int)\n",
    "        \n",
    "        # Deal with neighbouring maxima\n",
    "        peak_idx, peak_int = destroy_neighbors(all_idxs_nobg, all_ints_nobg,\n",
    "                                    peak_idx, peak_int)\n",
    "        \n",
    "        # Convert to real coordinates and add to plot\n",
    "        if plot:\n",
    "            peak_coord = peak_idx + np.array([box_z, box_x])[:, None] \n",
    "            ax.scatter(*np.flipud(peak_coord), c ='r', s = 15, marker = 's')\n",
    "    \n",
    "    if plot:\n",
    "        plt.legend()\n",
    "        plt.show()\n",
    "    # \n",
    "    # # Get the real x and z coordinates\n",
    "    # box_px = box_idx + np.array([box_z - box_marg, box_x - box_marg])[:, None, None]\n",
    "    # box_px_max = box_idx_max + np.array([box_z - box_marg, box_x - box_marg])[:, None]        \n",
    "    # box_px_max_old = box_idx_max_old + np.array([box_z - box_marg, box_x - box_marg])[:, None]        \n",
    "    # \n",
    "    # # SUBPIXEL DETECTION\n",
    "    # # When only one maximum was detected, the entire region can be used to fit a \n",
    "    # # Gaussian in two directions\n",
    "    # \n",
    "    # # Use curve_fit to fit a Gaussian to the region\n",
    "    # def gaussian(x, a, x0, sigma):\n",
    "    #     return a * np.exp(-((x - x0)**2) / (2 * sigma**2))\n",
    "    # \n",
    "    # # Get slices around box_idx_max in the x and z direction\n",
    "    # row_px = box_px[1, box_idx_max[0], :].flatten()\n",
    "    # col_px = box_px[0, :, box_idx_max[1]].flatten()\n",
    "    # \n",
    "    # row_int = box_int[box_idx_max[0], :].flatten()\n",
    "    # col_int = box_int[:, box_idx_max[1]].flatten()\n",
    "    # \n",
    "    # # Initial parameters\n",
    "    # # TODO: Change sigma to number of pixels that are at maximum\n",
    "    # a = box_int[*box_idx_max][0]\n",
    "    # x0 = box_px_max[1][0]\n",
    "    # z0 = box_px_max[0][0]\n",
    "    # sigma_x = 1\n",
    "    # sigma_z = 1\n",
    "    # \n",
    "    # \n",
    "    # popt_row, _ = curve_fit(gaussian, row_px, row_int, p0=[a, x0, sigma_x])\n",
    "    # popt_col, _ = curve_fit(gaussian, col_px, col_int, p0=[a, z0, sigma_z])\n",
    "    # \n",
    "    # # Get the coordinates of the maximum of the Gaussian\n",
    "    # x_max = popt_row[1]\n",
    "    # z_max = popt_col[1]\n",
    "    # \n",
    "    # # Plot the unprocessed box, maximum pixels and particle center\n",
    "    # fig, ax = plt.subplots()\n",
    "    # ax.imshow(img, cmap = 'gray')\n",
    "    # ax.invert_yaxis()\n",
    "    # ax.set_xlim(box_x - box_marg - 0.5, box_x + box_w + box_marg + 0.5)\n",
    "    # ax.set_ylim(box_z + box_h + box_marg + 0.5, box_z - box_marg - 0.5)\n",
    "    # \n",
    "    # ax.scatter(*np.flipud(box_px_max_old), c ='b', s = 75, marker = 's',\n",
    "    #            alpha=0.2, label = 'Local max pixels')\n",
    "    # ax.scatter(*np.flipud(box_px_max), c ='r', s = 15, marker = 's',\n",
    "    #            label = 'Post-blur max pixel')\n",
    "    # ax.scatter(x_max, z_max, c = 'r', s = 100, marker = '+', \n",
    "    #            label = 'Gaussian subpixel')\n",
    "    # plt.legend()\n",
    "    # plt.show()\n",
    "    # \n",
    "    # return x_max, z_max\n",
    "\n",
    "# def detect_particles(img, img_nobg):\n",
    "\n",
    "# Todo: FOR LOOP!\n",
    "\n",
    "cnt_idx = 14 # img 0 cnt 15 max iterations, cnt 14 double peak goes wrong!!\n",
    "\n",
    "img_nobg = imgs_nobg[0]\n",
    "img = imgs[0]\n",
    "\n",
    "# Find the contours in the background-less image\n",
    "cnts, _ = cv.findContours(img_nobg, cv.RETR_EXTERNAL, cv.CHAIN_APPROX_SIMPLE)\n",
    "\n",
    "# Filter out contours that are too small\n",
    "cnts = [cnt for cnt in cnts if cv.contourArea(cnt) > 1]\n",
    "\n",
    "# for cnt in cnts:\n",
    "\n",
    "find_particle_center(img, img_nobg, cnts, cnt_idx, plot=True, neighbor_dist=1.5, box_marg = 0)"
   ],
   "metadata": {
    "collapsed": false,
    "ExecuteTime": {
     "end_time": "2024-03-15T17:26:25.165331Z",
     "start_time": "2024-03-15T17:26:25.105398Z"
    }
   },
   "id": "1e32a654b1d093b2",
   "execution_count": 91
  },
  {
   "cell_type": "code",
   "outputs": [
    {
     "data": {
      "text/plain": "<matplotlib.image.AxesImage at 0x2d0a24250>"
     },
     "execution_count": 57,
     "metadata": {},
     "output_type": "execute_result"
    },
    {
     "data": {
      "text/plain": "<Figure size 640x480 with 2 Axes>",
      "image/png": "[encoded data removed]"
     },
     "metadata": {},
     "output_type": "display_data"
    }
   ],
   "source": [
    "test_img = np.array([[  0,   0,   0,   0,   0,   0,   0,   0],\n",
    " [  0,   0,   0,   0,   0,   0,   0,   0],\n",
    " [  0,   0, 146, 211, 211, 106,   0,   0],\n",
    " [  0,   0, 147, 138, 156,   0,   0,   0],\n",
    " [  0,   0,   0,  64,  71,   0,   0,   0],\n",
    " [  0,   0,   0,   0,   0,   0,   0,   0],\n",
    " [  0,   0,   0,   0,   0,   0,   0,   0]], dtype=np.uint8)\n",
    "\n",
    "fig,ax=plt.subplots(1,2)\n",
    "\n",
    "ax[0].imshow(test_img)\n",
    "ax[1].imshow(cv.GaussianBlur(test_img, (3, 3), 0))"
   ],
   "metadata": {
    "collapsed": false,
    "ExecuteTime": {
     "end_time": "2024-03-15T16:34:18.386803Z",
     "start_time": "2024-03-15T16:34:18.307924Z"
    }
   },
   "id": "ecfbf94c359e296f",
   "execution_count": 57
  },
  {
   "cell_type": "code",
   "outputs": [
    {
     "data": {
      "text/plain": "<Figure size 640x480 with 1 Axes>",
      "image/png": "[encoded data removed]"
     },
     "metadata": {},
     "output_type": "display_data"
    }
   ],
   "source": [
    "# # Get all pixels enclosed by the contour\n",
    "# mask = np.zeros_like(img_proc)\n",
    "# mask = cv.drawContours(mask, [cnt], -1, 255, -1)\n",
    "# \n",
    "# # Get the x and z coordinates and intensities of the pixels\n",
    "# cnt_coords = np.array(np.where(mask == 255))\n",
    "# # box_int = img[np.where(mask == 255)]\n",
    "\n",
    "# # Get 2D local maxima in this blob\n",
    "# peaks, _ = find_peaks(box_int, distance=5, prominence=5)\n",
    "\n",
    "\n",
    "# Show this contour on the original image\n",
    "fig, ax = plt.subplots()\n",
    "ax.imshow(img, cmap = 'gray')\n",
    "ax.set_xlim(x - box_marg - 0.5, x + w + box_marg + 0.5)\n",
    "ax.set_ylim(z + h + box_marg + 0.5, z - box_marg - 0.5)\n",
    "\n",
    "# Scatter plot of peaks\n",
    "ax.scatter(*np.flipud(box_px_max), c ='r', s = 20, marker = 's',\n",
    "           label = 'Local max pixel')\n",
    "ax.scatter(x_max, z_max, c = 'g', s = 100, marker = '+',\n",
    "           label = 'Subpixel maximum')\n",
    "plt.legend()\n",
    "plt.show()\n",
    "\n"
   ],
   "metadata": {
    "collapsed": false,
    "ExecuteTime": {
     "end_time": "2024-03-14T15:43:29.520612Z",
     "start_time": "2024-03-14T15:43:29.469371Z"
    }
   },
   "id": "91e747232b28e199",
   "execution_count": 84
  },
  {
   "cell_type": "markdown",
   "source": [],
   "metadata": {
    "collapsed": false
   },
   "id": "62267b5e155f6abb"
  },
  {
   "cell_type": "markdown",
   "source": [],
   "metadata": {
    "collapsed": false
   },
   "id": "61d75720984e357b"
  },
  {
   "cell_type": "code",
   "outputs": [],
   "source": [
    "# Simple blob detection\n",
    "detector = cv.SimpleBlobDetector()\n",
    "\n",
    "# Detect blobs.\n",
    "keypoints = detector.detect(img_proc)\n",
    "\n",
    "# Draw detected blobs as red circles.\n",
    "# cv.DRAW_MATCHES_FLAGS_DRAW_RICH_KEYPOINTS ensures the size of the circle corresponds to the size of blob\n",
    "img_with_keypoints = cv.drawKeypoints(img_proc, keypoints, np.array([]), \n",
    "                                      (0, 255, 0),\n",
    "                                      cv.DRAW_MATCHES_FLAGS_DRAW_RICH_KEYPOINTS)\n",
    "\n",
    "# Show keypoints\n",
    "fig, ax = plt.subplots(1,1, figsize = (15, 15))\n",
    "\n",
    "ax.imshow(img_with_keypoints, cmap = 'gray')\n",
    "ax.set_xlim(roi[2], roi[3])\n",
    "ax.set_ylim(roi[0], roi[1])\n",
    "plt.show()\n"
   ],
   "metadata": {
    "collapsed": false
   },
   "id": "fc2b459212afc015",
   "execution_count": null
  }
 ],
 "metadata": {
  "kernelspec": {
   "display_name": "Python 3",
   "language": "python",
   "name": "python3"
  },
  "language_info": {
   "codemirror_mode": {
    "name": "ipython",
    "version": 2
   },
   "file_extension": ".py",
   "mimetype": "text/x-python",
   "name": "python",
   "nbconvert_exporter": "python",
   "pygments_lexer": "ipython2",
   "version": "2.7.6"
  }
 },
 "nbformat": 4,
 "nbformat_minor": 5
}
