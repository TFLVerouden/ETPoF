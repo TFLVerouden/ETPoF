{
 "cells": [
  {
   "cell_type": "code",
   "outputs": [],
   "source": [
    "import numpy as np"
   ],
   "metadata": {
    "collapsed": false,
    "ExecuteTime": {
     "end_time": "2024-03-19T14:43:45.622092Z",
     "start_time": "2024-03-19T14:43:45.538424Z"
    }
   },
   "id": "6b061ae6d69b3104",
   "execution_count": 1
  },
  {
   "cell_type": "code",
   "execution_count": 33,
   "id": "initial_id",
   "metadata": {
    "collapsed": true,
    "ExecuteTime": {
     "end_time": "2024-03-19T14:52:36.941954Z",
     "start_time": "2024-03-19T14:52:36.938670Z"
    }
   },
   "outputs": [
    {
     "name": "stdout",
     "output_type": "stream",
     "text": [
      "[[-5.  -6.  -1.  -2. ]\n",
      " [-4.9 -5.9 -0.9 -1.9]\n",
      " [-4.8 -5.8 -0.8 -1.8]\n",
      " [-4.7 -5.7 -0.7 -1.7]]\n",
      "0 1\n",
      "0.0 6\n"
     ]
    }
   ],
   "source": [
    "a = np.array([0,0.1,0.2,0.3])\n",
    "b = np.array([5,6,1,2])\n",
    "\n",
    "c = a[:, None] - b[:]\n",
    "\n",
    "print(c)\n",
    "a_idx, b_idx = np.unravel_index(np.argmin(c), c.shape)\n",
    "\n",
    "print(a_idx, b_idx)\n",
    "print(a[a_idx], b[b_idx])"
   ]
  }
 ],
 "metadata": {
  "kernelspec": {
   "display_name": "Python 3",
   "language": "python",
   "name": "python3"
  },
  "language_info": {
   "codemirror_mode": {
    "name": "ipython",
    "version": 2
   },
   "file_extension": ".py",
   "mimetype": "text/x-python",
   "name": "python",
   "nbconvert_exporter": "python",
   "pygments_lexer": "ipython2",
   "version": "2.7.6"
  }
 },
 "nbformat": 4,
 "nbformat_minor": 5
}
