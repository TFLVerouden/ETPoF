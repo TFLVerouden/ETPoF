{
 "cells": [
  {
   "cell_type": "code",
   "outputs": [],
   "source": [
    "import numpy as np\n",
    "import os\n",
    "import matplotlib.pyplot as plt\n",
    "from natsort import natsorted\n",
    "import pandas as pd\n",
    "import matplotlib.pyplot as plt\n",
    "import re"
   ],
   "metadata": {
    "collapsed": false,
    "ExecuteTime": {
     "end_time": "2024-04-16T10:15:32.740856Z",
     "start_time": "2024-04-16T10:15:32.208131Z"
    }
   },
   "id": "495ab8f398234f2b",
   "execution_count": 1
  },
  {
   "cell_type": "code",
   "outputs": [],
   "source": [
    "# %load_ext autoreload\n",
    "# %autoreload 2"
   ],
   "metadata": {
    "collapsed": false,
    "ExecuteTime": {
     "end_time": "2024-04-16T10:15:32.743126Z",
     "start_time": "2024-04-16T10:15:32.741734Z"
    }
   },
   "id": "2c10eec96d0d1c1a",
   "execution_count": 2
  },
  {
   "cell_type": "code",
   "outputs": [],
   "source": [
    "def import_flowmeter(file_path, set_time_zero=True):\n",
    "    # Load the data into a pandas dataframe\n",
    "    flow_data = pd.read_csv(file_path, skiprows=1, names=['time', 'flow'])\n",
    "    \n",
    "    try:\n",
    "        # Reverse the dataframe\n",
    "        data_rev = flow_data.iloc[::-1]\n",
    "        \n",
    "        # Identify the final occurrence of a string containing letters in the 'time' column\n",
    "        start_index = data_rev.loc[data_rev['time'].apply(\n",
    "                lambda x: bool(re.search('[a-zA-Z]', x)))].first_valid_index()\n",
    "        \n",
    "        # Filter out any rows after this index\n",
    "        flow_data = data_rev.loc[:(start_index + 1)].iloc[::-1]\n",
    "    except: TypeError\n",
    "    \n",
    "    # Convert to floats\n",
    "    flow_data = flow_data.astype(np.float64)\n",
    "    \n",
    "    # Get the nonzero flow values\n",
    "    mask = flow_data['flow'] > 0\n",
    "    \n",
    "    # Make this mask slightly larger on each side\n",
    "    mask = mask | mask.shift(1) | mask.shift(-1)\n",
    "    \n",
    "    # Set the time zero to the first time value\n",
    "    if set_time_zero:\n",
    "        flow_data['time'] = flow_data['time'] - flow_data['time'][mask].iloc[0]\n",
    "    \n",
    "    # Apply the mask\n",
    "    return flow_data[mask]"
   ],
   "metadata": {
    "collapsed": false,
    "ExecuteTime": {
     "end_time": "2024-04-16T10:15:32.746465Z",
     "start_time": "2024-04-16T10:15:32.743790Z"
    }
   },
   "id": "226919282d3fffb2",
   "execution_count": 3
  },
  {
   "cell_type": "code",
   "outputs": [],
   "source": [
    "def set_size(width, fraction=1, subplots=(1, 1), aspect=None):\n",
    "    \"\"\"Set figure dimensions to avoid scaling in LaTeX.\n",
    "    \n",
    "    From https://jwalton.info/Embed-Publication-Matplotlib-Latex/\n",
    "\n",
    "    Parameters\n",
    "    ----------\n",
    "    width: float or string\n",
    "            Document width in points, or string of predined document type\n",
    "    fraction: float, optional\n",
    "            Fraction of the width which you wish the figure to occupy\n",
    "    subplots: array-like, optional\n",
    "            The number of rows and columns of subplots.\n",
    "    Returns\n",
    "    -------\n",
    "    fig_dim: tuple\n",
    "            Dimensions of figure in inches\n",
    "    \"\"\"\n",
    "    if width == 'thesis':\n",
    "        width_pt = 426.79135\n",
    "    elif width == 'beamer':\n",
    "        width_pt = 307.28987\n",
    "    else:\n",
    "        width_pt = width\n",
    "\n",
    "    # Width of figure (in pts)\n",
    "    fig_width_pt = width_pt * fraction\n",
    "    # Convert from pt to inches\n",
    "    inches_per_pt = 1 / 72.27\n",
    "\n",
    "    # Golden ratio to set aesthetic figure height\n",
    "    # https://disq.us/p/2940ij3\n",
    "    golden_ratio = (5**.5 - 1) / 2\n",
    "    \n",
    "    if aspect is None:\n",
    "        aspect = golden_ratio\n",
    "\n",
    "    # Figure width in inches\n",
    "    fig_width_in = fig_width_pt * inches_per_pt\n",
    "    # Figure height in inches\n",
    "    fig_height_in = fig_width_in * aspect * (subplots[0] / subplots[1])\n",
    "\n",
    "    return (fig_width_in, fig_height_in)"
   ],
   "metadata": {
    "collapsed": false,
    "ExecuteTime": {
     "end_time": "2024-04-16T10:15:32.749777Z",
     "start_time": "2024-04-16T10:15:32.747516Z"
    }
   },
   "id": "b31b4934aa521753",
   "execution_count": 4
  },
  {
   "cell_type": "code",
   "outputs": [
    {
     "name": "stdout",
     "output_type": "stream",
     "text": [
      "Your style sheets are located at: /Users/tommieverouden/miniconda3/lib/python3.11/site-packages/matplotlib/mpl-data/stylelib\n"
     ]
    }
   ],
   "source": [
    "import matplotlib as mpl\n",
    "print(\"Your style sheets are located at: {}\".format(os.path.join(mpl.__path__[0], 'mpl-data', 'stylelib')))"
   ],
   "metadata": {
    "collapsed": false,
    "ExecuteTime": {
     "end_time": "2024-04-16T10:15:32.752835Z",
     "start_time": "2024-04-16T10:15:32.750319Z"
    }
   },
   "id": "ebdb1dd12f1fba39",
   "execution_count": 5
  },
  {
   "cell_type": "code",
   "outputs": [],
   "source": [
    "plt.style.use('tex')"
   ],
   "metadata": {
    "collapsed": false,
    "ExecuteTime": {
     "end_time": "2024-04-16T10:15:32.754621Z",
     "start_time": "2024-04-16T10:15:32.753280Z"
    }
   },
   "id": "9027344a6a219306",
   "execution_count": 6
  },
  {
   "cell_type": "code",
   "execution_count": 7,
   "id": "initial_id",
   "metadata": {
    "collapsed": true,
    "ExecuteTime": {
     "end_time": "2024-04-16T10:15:32.772814Z",
     "start_time": "2024-04-16T10:15:32.755113Z"
    }
   },
   "outputs": [],
   "source": [
    "# Define the directory\n",
    "directory = 'processed/'\n",
    "\n",
    "# Get a list of all files in the directory\n",
    "files = os.listdir(directory)\n",
    "\n",
    "# Filter the list to include only files that end with displ_av.npy\n",
    "files_displ_av = [file for file in files if file.endswith('displ_av.npy')]\n",
    "files_profile = [file for file in files if file.endswith('displ.npy')]\n",
    "files_pos = [file for file in files if file.endswith('window_pos.npy')]\n",
    "\n",
    "# Sort the files in natural order\n",
    "files_profile = natsorted(files_profile)\n",
    "files_pos = natsorted(files_pos)\n",
    "files_displ_av = natsorted(files_displ_av)\n",
    "\n",
    "# Load all the files into a dictionary of numpy arrays\n",
    "displ_av = {}\n",
    "for file in files_displ_av:\n",
    "    # Remove the extension and directory path from the filename\n",
    "    key = os.path.splitext(os.path.basename(file))[0]\n",
    "    key = key.replace('_displ_av', '')\n",
    "    \n",
    "    displ_av[key] = np.load(os.path.join(directory, file))\n",
    "\n",
    "# Load all the files into a dictionary of numpy arrays\n",
    "profile = {}\n",
    "for file in files_profile:\n",
    "    # Remove the extension and directory path from the filename\n",
    "    key = os.path.splitext(os.path.basename(file))[0]\n",
    "    key = key.replace('_displ', '')\n",
    "\n",
    "    profile[key] = np.load(os.path.join(directory, file))\n",
    "    \n",
    "# Load all the files into a dictionary of numpy arrays\n",
    "window_pos = {}\n",
    "for file in files_pos:\n",
    "    # Remove the extension and directory path from the filename\n",
    "    key = os.path.splitext(os.path.basename(file))[0]\n",
    "    key = key.replace('_window_pos', '')\n",
    "\n",
    "    window_pos[key] = np.load(os.path.join(directory, file))\n",
    "    \n",
    "# Import calibration data\n",
    "calibration = []\n",
    "\n",
    "for i in range(1,5):\n",
    "    calibration.append(np.load(os.path.join(f'data/calibration/pos{i}.npy')))"
   ]
  },
  {
   "cell_type": "markdown",
   "source": [
    "# AVERAGES"
   ],
   "metadata": {
    "collapsed": false
   },
   "id": "305a6bd2a2a3e6df"
  },
  {
   "cell_type": "code",
   "outputs": [],
   "source": [
    "# fig, ax = plt.subplots(1, 1, figsize=set_size(246))\n",
    "# fig, ax = plt.subplots(1, 1, figsize=set_size(500))\n",
    "\n",
    "frame_rate = 40000 # fps\n",
    "cross_section = 0.01 * 0.02 # m^2\n",
    "start_threshold = 1 # px\n",
    "positions = ['9.0 cm', '15.0 cm', '25.3 cm', '31.1 cm']\n",
    "\n",
    "frames = {}\n",
    "position = {}\n",
    "start_frames = {}\n",
    "\n",
    "# For each key in the dictionary, process\n",
    "for key in displ_av.keys():\n",
    "    \n",
    "    # Get the position number\n",
    "    position[key] = int(key[3])\n",
    "    \n",
    "    # Define a time array\n",
    "    frames[key] = np.arange(0, displ_av[key].shape[0], 1)\n",
    "    \n",
    "    # Shift the time array such that t=0 is at the point where the displacement is above a certain threshold\n",
    "    start_frames[key] = np.argmax(displ_av[key] > start_threshold) - 50\n",
    "    frames[key] = frames[key] - start_frames[key]"
   ],
   "metadata": {
    "collapsed": false,
    "ExecuteTime": {
     "end_time": "2024-04-16T10:15:32.776411Z",
     "start_time": "2024-04-16T10:15:32.773458Z"
    }
   },
   "id": "8f9bfcae94418ad0",
   "execution_count": 8
  },
  {
   "cell_type": "code",
   "outputs": [
    {
     "data": {
      "text/plain": "<Figure size 705.687x141.137 with 4 Axes>",
      "image/png": "[encoded data removed]"
     },
     "metadata": {},
     "output_type": "display_data"
    }
   ],
   "source": [
    "displ_av_avg = []\n",
    "displ_av_std = []\n",
    "frames_avg = []\n",
    "\n",
    "# For each position\n",
    "for i in range(1,5):\n",
    "\n",
    "    # Get the keys that correspond to the position\n",
    "    keys = [key for key in displ_av.keys() if position[key] == i]\n",
    "    \n",
    "    # Cut the data so it starts at the start frame\n",
    "    displ_av_cut = {key: displ_av[key][start_frames[key]:] for key in keys}\n",
    "    \n",
    "    # Make sure all the data is the same length\n",
    "    min_length = min([displ_av_cut[key].shape[0] for key in keys])\n",
    "    displ_av_cut = {key: displ_av_cut[key][:min_length] for key in keys}\n",
    "    \n",
    "    # Average the cut data\n",
    "    displ_av_avg.append(np.mean([displ_av_cut[key] for key in keys], axis=0).flatten())\n",
    "    \n",
    "    # Calculate the std\n",
    "    displ_av_std.append(np.std([displ_av_cut[key] for key in keys], axis=0).flatten())\n",
    "    \n",
    "    # Use calibration to convert to L/s\n",
    "    displ_av_avg[-1] = displ_av_avg[-1] / calibration[i-1][0] * cross_section * frame_rate\n",
    "    \n",
    "    # Define a time array in s\n",
    "    frames_avg.append(np.arange(0, displ_av_avg[-1].shape[0], 1) / frame_rate)\n",
    "\n",
    "# Plot the data\n",
    "fig, axs = plt.subplots(1, 4, figsize=set_size(510, aspect=0.2),\n",
    "                        sharex=True, sharey=True)\n",
    "plt.subplots_adjust(wspace=0.1)\n",
    "\n",
    "for i in range(4):\n",
    "    # Plot the data\n",
    "    axs[i].plot(frames_avg[i], displ_av_avg[i], c=f'C{i}')\n",
    "    \n",
    "    # Fill the area between the average and the standard deviation\n",
    "    axs[i].fill_between(frames_avg[i], displ_av_avg[i] - displ_av_std[i], displ_av_avg[i] + displ_av_std[i], alpha=0.4, color=f'C{i}')\n",
    "    \n",
    "    # Set the title and labels\n",
    "    axs[i].set_title(positions[i])\n",
    "    axs[i].set_xlim(0, 0.25)\n",
    "    axs[i].set_xticks([0, 0.1, 0.2])\n",
    "    axs[i].set_ylim(0, 13)\n",
    "    axs[0].set_ylabel('Flow rate (L/s)')\n",
    "    axs[0].set_xlabel('Time (s)')\n",
    "    \n",
    "# fig.supxlabel('Time (s)')\n",
    "# plt.\n",
    "\n",
    "# axs[0].set_yticklabels([0, 0.5, 1, 1.5, 2])\n",
    "# Add labels and a legend\n",
    "# axs[i].set_xlabel('Time (s)')\n",
    "# axs[i].set_ylabel('Volumetric flow rate (L/s)')\n",
    "# axs[i].legend()\n",
    "plt.show()\n",
    "\n",
    "# Save and remove excess whitespace\n",
    "fig.savefig('processed/flow_rate_av.pdf', format='pdf', bbox_inches='tight')"
   ],
   "metadata": {
    "collapsed": false,
    "ExecuteTime": {
     "end_time": "2024-04-16T10:16:23.155963Z",
     "start_time": "2024-04-16T10:16:22.848081Z"
    }
   },
   "id": "e130acb549c0eb6c",
   "execution_count": 16
  },
  {
   "cell_type": "markdown",
   "source": [
    "# FLOWMETER"
   ],
   "metadata": {
    "collapsed": false
   },
   "id": "d13ab6aa46643671"
  },
  {
   "cell_type": "code",
   "outputs": [
    {
     "data": {
      "text/plain": "<Figure size 340.39x210.373 with 1 Axes>",
      "image/png": "[encoded data removed]"
     },
     "metadata": {},
     "output_type": "display_data"
    }
   ],
   "source": [
    "# Set the path to the flow meter data file\n",
    "directory = 'data/flowmeter/'\n",
    "\n",
    "# Get a list of all the files in the directory, filtering out hidden files\n",
    "files = [file for file in os.listdir(directory) if file.endswith('.txt')]\n",
    "\n",
    "# Import the data from all files in the directory\n",
    "flowmeter = [import_flowmeter(directory + file) for file in files]\n",
    "\n",
    "# Split the dataset according to the position number in the file name\n",
    "flowmeter = [[flowmeter[j] for j in range(len(flowmeter)) if f'pos{i}' in files[j]]\n",
    "             for i in range(1, 5)]\n",
    "\n",
    "# Define a list of colors\n",
    "colors = plt.rcParams['axes.prop_cycle'].by_key()['color']\n",
    "\n",
    "# Define a list of marker styles\n",
    "markers = ['o', 'v', '^', 's', '+', 'x', '*']\n",
    "\n",
    "# Plot all data points, with separate colours for each position and symbols for each entry\n",
    "fig, ax = plt.subplots(figsize=set_size(246))\n",
    "for i in range(4):\n",
    "    for j in range(len(flowmeter[i])):\n",
    "        label = positions[i] if j == 1 else '_' \n",
    "        ax.scatter(flowmeter[i][j]['time'], flowmeter[i][j]['flow'],\n",
    "                   color=f'C{i}', label=label, s=4)\n",
    "\n",
    "# Use scientific notation on the y axis\n",
    "ax.ticklabel_format(axis='y', style='sci', scilimits=(0,0))\n",
    "\n",
    "ax.set_xlabel('Time (s)')\n",
    "ax.set_ylabel('Flow rate (a.u.)')\n",
    "ax.legend()\n",
    "plt.show()\n",
    "fig.savefig('processed/flow_meter.pdf', format='pdf', bbox_inches='tight')"
   ],
   "metadata": {
    "collapsed": false,
    "ExecuteTime": {
     "end_time": "2024-04-16T10:15:35.876337Z",
     "start_time": "2024-04-16T10:15:35.196408Z"
    }
   },
   "id": "30c7f2f8415697bc",
   "execution_count": 10
  },
  {
   "cell_type": "markdown",
   "source": [
    "# FLOW PROFILES"
   ],
   "metadata": {
    "collapsed": false
   },
   "id": "b772d892a871227f"
  },
  {
   "cell_type": "code",
   "outputs": [
    {
     "name": "stderr",
     "output_type": "stream",
     "text": [
      "/var/folders/nt/rmh7rzx15n3_4wkj1k7rpbxw0000gn/T/ipykernel_49542/783776044.py:20: RuntimeWarning: Mean of empty slice\n",
      "  profile_avg.append(np.nanmean([profile_cut[key] for key in keys], axis=0)[:,:,0])\n"
     ]
    }
   ],
   "source": [
    "profile_avg = []\n",
    "window_pos_avg = []\n",
    "max_flow_index = []\n",
    "# frames_avg = []\n",
    "\n",
    "# For each position\n",
    "for i in range(1,5):\n",
    "\n",
    "    # Get the keys that correspond to the position\n",
    "    keys = [key for key in displ_av.keys() if position[key] == i]\n",
    "    \n",
    "    # Cut the data so it starts at the start frame\n",
    "    profile_cut = {key: profile[key][start_frames[key]:, :, :, 1] for key in keys}\n",
    "    \n",
    "    # Make sure all the data is the same length\n",
    "    min_length = min([profile_cut[key].shape[0] for key in keys])\n",
    "    profile_cut = {key: profile_cut[key][:min_length] for key in keys}\n",
    "    \n",
    "    # Average the cut data\n",
    "    profile_avg.append(np.nanmean([profile_cut[key] for key in keys], axis=0)[:,:,0])\n",
    "    \n",
    "    # Use calibration to convert to m/s\n",
    "    profile_avg[-1] = profile_avg[-1] / calibration[i-1][0] * frame_rate / 1000\n",
    "    \n",
    "    # Define position axis\n",
    "    window_pos_avg.append(np.mean([window_pos[key][:, 0, 0] for key in keys], axis=0) / calibration[i-1][0])\n",
    "    \n",
    "    # Get the index of maximum displacement for each position\n",
    "    max_flow_index.append(np.nanargmax(displ_av_avg[i-1]))\n",
    "    \n",
    "max_flow_index2 = [1114, 1238, 1335, 1363]"
   ],
   "metadata": {
    "collapsed": false,
    "ExecuteTime": {
     "end_time": "2024-04-16T13:04:55.395883Z",
     "start_time": "2024-04-16T13:04:55.379748Z"
    }
   },
   "id": "af63e49d1be04ed8",
   "execution_count": 28
  },
  {
   "cell_type": "code",
   "outputs": [],
   "source": [
    "test = displ_av_avg[2][:2000]"
   ],
   "metadata": {
    "collapsed": false,
    "ExecuteTime": {
     "end_time": "2024-04-16T13:04:29.833420Z",
     "start_time": "2024-04-16T13:04:29.831521Z"
    }
   },
   "id": "9fb6d50dce234a13",
   "execution_count": 27
  },
  {
   "cell_type": "code",
   "outputs": [
    {
     "name": "stdout",
     "output_type": "stream",
     "text": [
      "1114 2186\n",
      "882 6904\n",
      "1453 7048\n",
      "2124 10537\n"
     ]
    }
   ],
   "source": [
    "for i in range(4):\n",
    "    print(max_flow_index[i], len(profile_avg[i]))"
   ],
   "metadata": {
    "collapsed": false,
    "ExecuteTime": {
     "end_time": "2024-04-16T10:15:35.898572Z",
     "start_time": "2024-04-16T10:15:35.895521Z"
    }
   },
   "id": "29f15ce87409b451",
   "execution_count": 12
  },
  {
   "cell_type": "code",
   "outputs": [
    {
     "data": {
      "text/plain": "<Figure size 705.687x141.137 with 5 Axes>",
      "image/png": "[encoded data removed]"
     },
     "metadata": {},
     "output_type": "display_data"
    }
   ],
   "source": [
    "rel_indices = [-600, -400, 0, 400, 4000]\n",
    "t_max_index = 2\n",
    "\n",
    "# Plot the velocity profiles at different times\n",
    "fig, ax = plt.subplots(1, 5, figsize=set_size(510, aspect=0.2), sharex=True)\n",
    "plt.subplots_adjust(wspace=0)\n",
    "\n",
    "mean_frames = 100\n",
    "\n",
    "# For time\n",
    "for i in range(len(rel_indices)):\n",
    "    \n",
    "    # For position\n",
    "    for j in range(4):\n",
    "        \n",
    "        # If the data exists\n",
    "        if max_flow_index2[j] + rel_indices[i] + mean_frames < len(profile_avg[j]):\n",
    "\n",
    "            # Average the profile of the frames around the given time step\n",
    "            mean_profile = np.nanmean([profile_avg[j][max_flow_index2[j] + rel_indices[i] + k, :] for k in range(mean_frames)], axis=0)\n",
    "\n",
    "            # Plot the profile\n",
    "            ax[i].plot(mean_profile, window_pos_avg[j], label=positions[j], c=f'C{j}')\n",
    "    \n",
    "    if i == t_max_index:\n",
    "        ax[i].set_title(r'$t_{\\rm{max}}$')\n",
    "    elif i > t_max_index:\n",
    "        ax[i].set_title(f'+{rel_indices[i] / frame_rate:.3f} s')\n",
    "    elif i < t_max_index:\n",
    "        ax[i].set_title(f'{rel_indices[i] / frame_rate:.3f} s')\n",
    "\n",
    "    \n",
    "    ax[i].invert_yaxis()\n",
    "    if i > 0:\n",
    "        ax[i].set_yticks([])\n",
    "\n",
    "ax[0].set_ylabel('Position (mm)')\n",
    "ax[2].set_xlabel('Horizontal velocity (m/s)')\n",
    "plt.show()\n",
    "\n",
    "fig.savefig('processed/flow_profiles.pdf', format='pdf', bbox_inches='tight')"
   ],
   "metadata": {
    "collapsed": false,
    "ExecuteTime": {
     "end_time": "2024-04-16T13:05:53.855668Z",
     "start_time": "2024-04-16T13:05:53.596359Z"
    }
   },
   "id": "fd1dead583cb45a3",
   "execution_count": 31
  },
  {
   "cell_type": "code",
   "outputs": [],
   "source": [],
   "metadata": {
    "collapsed": false,
    "ExecuteTime": {
     "end_time": "2024-04-16T10:15:38.083999Z",
     "start_time": "2024-04-16T10:15:38.079804Z"
    }
   },
   "id": "8e64a5feec37c3d2",
   "execution_count": 13
  },
  {
   "cell_type": "code",
   "outputs": [],
   "source": [],
   "metadata": {
    "collapsed": false,
    "ExecuteTime": {
     "end_time": "2024-04-16T10:15:38.085834Z",
     "start_time": "2024-04-16T10:15:38.084648Z"
    }
   },
   "id": "9fa5fd3151eb4c9f",
   "execution_count": 13
  }
 ],
 "metadata": {
  "kernelspec": {
   "display_name": "Python 3",
   "language": "python",
   "name": "python3"
  },
  "language_info": {
   "codemirror_mode": {
    "name": "ipython",
    "version": 2
   },
   "file_extension": ".py",
   "mimetype": "text/x-python",
   "name": "python",
   "nbconvert_exporter": "python",
   "pygments_lexer": "ipython2",
   "version": "2.7.6"
  }
 },
 "nbformat": 4,
 "nbformat_minor": 5
}
