{
 "cells": [
  {
   "cell_type": "code",
   "execution_count": 4,
   "id": "1fa16425bf314771",
   "metadata": {
    "collapsed": false,
    "ExecuteTime": {
     "end_time": "2024-04-15T19:00:48.886419Z",
     "start_time": "2024-04-15T19:00:48.865518Z"
    }
   },
   "outputs": [],
   "source": [
    "import numpy as np\n",
    "import matplotlib.pyplot as plt\n",
    "from scipy import signal as sig\n",
    "import piv_fun as piv"
   ]
  },
  {
   "cell_type": "code",
   "outputs": [
    {
     "name": "stdout",
     "output_type": "stream",
     "text": [
      "The autoreload extension is already loaded. To reload it, use:\n",
      "  %reload_ext autoreload\n"
     ]
    }
   ],
   "source": [
    "%load_ext autoreload\n",
    "%autoreload 2"
   ],
   "metadata": {
    "collapsed": false,
    "ExecuteTime": {
     "end_time": "2024-04-15T19:00:49.441076Z",
     "start_time": "2024-04-15T19:00:49.424438Z"
    }
   },
   "id": "3c661b748ada7d97",
   "execution_count": 5
  },
  {
   "cell_type": "code",
   "outputs": [
    {
     "name": "stdout",
     "output_type": "stream",
     "text": [
      "Processing pos4-2\n",
      "-----------------\n"
     ]
    },
    {
     "name": "stderr",
     "output_type": "stream",
     "text": [
      "Reading images: 100%|██████████| 12933/12933 [00:14<00:00, 894.28it/s]\n",
      "Subtracting background: 100%|██████████| 12933/12933 [00:14<00:00, 882.33it/s]\n",
      "Optical flow:  11%|█         | 1364/12932 [01:25<12:05, 15.94it/s]\n"
     ]
    },
    {
     "ename": "KeyboardInterrupt",
     "evalue": "",
     "output_type": "error",
     "traceback": [
      "\u001B[0;31m---------------------------------------------------------------------------\u001B[0m",
      "\u001B[0;31mKeyboardInterrupt\u001B[0m                         Traceback (most recent call last)",
      "Cell \u001B[0;32mIn[11], line 14\u001B[0m\n\u001B[1;32m     11\u001B[0m window_ct \u001B[38;5;241m=\u001B[39m (\u001B[38;5;241m24\u001B[39m, \u001B[38;5;241m32\u001B[39m)\n\u001B[1;32m     13\u001B[0m \u001B[38;5;66;03m# Start batch PIV\u001B[39;00m\n\u001B[0;32m---> 14\u001B[0m \u001B[43mpiv\u001B[49m\u001B[38;5;241;43m.\u001B[39;49m\u001B[43mbatch_optical_flow\u001B[49m\u001B[43m(\u001B[49m\u001B[43mposition_nr\u001B[49m\u001B[43m,\u001B[49m\u001B[43m \u001B[49m\u001B[43mseries_nrs\u001B[49m\u001B[43m,\u001B[49m\u001B[43m \u001B[49m\u001B[43mslice_ct\u001B[49m\u001B[43m,\u001B[49m\u001B[43m \u001B[49m\u001B[43mwindow_ct\u001B[49m\u001B[43m,\u001B[49m\n\u001B[1;32m     15\u001B[0m \u001B[43m                       \u001B[49m\u001B[43mmax_shift_px\u001B[49m\u001B[43m,\u001B[49m\u001B[43m \u001B[49m\u001B[43mmargins_all\u001B[49m\u001B[43m[\u001B[49m\u001B[43mposition_nr\u001B[49m\u001B[43m]\u001B[49m\u001B[43m)\u001B[49m\n",
      "File \u001B[0;32m~/PycharmProjects/ETPoF/piv_fun.py:837\u001B[0m, in \u001B[0;36mbatch_optical_flow\u001B[0;34m(position_nr, series_nrs, slice_ct, window_ct, max_shift_px, margins, file_range, valid_angles, sum_rows, use_guess, timing, do_mean_plot)\u001B[0m\n\u001B[1;32m    832\u001B[0m images \u001B[38;5;241m=\u001B[39m read_image_directory(\u001B[38;5;124mf\u001B[39m\u001B[38;5;124m'\u001B[39m\u001B[38;5;124mdata/pos\u001B[39m\u001B[38;5;132;01m{\u001B[39;00mposition_nr\u001B[38;5;132;01m}\u001B[39;00m\u001B[38;5;124m-\u001B[39m\u001B[38;5;132;01m{\u001B[39;00mseries_nr\u001B[38;5;132;01m}\u001B[39;00m\u001B[38;5;124m'\u001B[39m,\n\u001B[1;32m    833\u001B[0m                               image_type\u001B[38;5;241m=\u001B[39m\u001B[38;5;124m'\u001B[39m\u001B[38;5;124mtif\u001B[39m\u001B[38;5;124m'\u001B[39m, timing\u001B[38;5;241m=\u001B[39m\u001B[38;5;28;01mTrue\u001B[39;00m,\n\u001B[1;32m    834\u001B[0m                               file_range\u001B[38;5;241m=\u001B[39mfile_range)\n\u001B[1;32m    836\u001B[0m \u001B[38;5;66;03m# Perform optical flow\u001B[39;00m\n\u001B[0;32m--> 837\u001B[0m displ, window_cent \u001B[38;5;241m=\u001B[39m \u001B[43moptical_flow\u001B[49m\u001B[43m(\u001B[49m\n\u001B[1;32m    838\u001B[0m \u001B[43m        \u001B[49m\u001B[43mimages\u001B[49m\u001B[43m,\u001B[49m\u001B[43m \u001B[49m\u001B[43mslice_ct\u001B[49m\u001B[43m,\u001B[49m\u001B[43m \u001B[49m\u001B[43mwindow_ct\u001B[49m\u001B[43m,\u001B[49m\u001B[43m \u001B[49m\u001B[43mmax_shift_px\u001B[49m\u001B[43m,\u001B[49m\u001B[43m \u001B[49m\u001B[43mmargins\u001B[49m\u001B[43m,\u001B[49m\n\u001B[1;32m    839\u001B[0m \u001B[43m        \u001B[49m\u001B[43mvalid_angles\u001B[49m\u001B[38;5;241;43m=\u001B[39;49m\u001B[43mvalid_angles\u001B[49m\u001B[43m,\u001B[49m\u001B[43m \u001B[49m\u001B[43mbackground\u001B[49m\u001B[38;5;241;43m=\u001B[39;49m\u001B[43mbackground\u001B[49m\u001B[43m,\u001B[49m\n\u001B[1;32m    840\u001B[0m \u001B[43m        \u001B[49m\u001B[43msum_rows\u001B[49m\u001B[38;5;241;43m=\u001B[39;49m\u001B[43msum_rows\u001B[49m\u001B[43m,\u001B[49m\u001B[43m \u001B[49m\u001B[43muse_guess\u001B[49m\u001B[38;5;241;43m=\u001B[39;49m\u001B[43muse_guess\u001B[49m\u001B[43m,\u001B[49m\u001B[43m \u001B[49m\u001B[43mtiming\u001B[49m\u001B[38;5;241;43m=\u001B[39;49m\u001B[43mtiming\u001B[49m\u001B[43m)\u001B[49m\n\u001B[1;32m    842\u001B[0m \u001B[38;5;66;03m# Calculate mean displacement\u001B[39;00m\n\u001B[1;32m    843\u001B[0m displ_mean \u001B[38;5;241m=\u001B[39m mean_displacement(displ, comp\u001B[38;5;241m=\u001B[39m\u001B[38;5;124m'\u001B[39m\u001B[38;5;124mx\u001B[39m\u001B[38;5;124m'\u001B[39m, av_dir\u001B[38;5;241m=\u001B[39m\u001B[38;5;124m'\u001B[39m\u001B[38;5;124mall\u001B[39m\u001B[38;5;124m'\u001B[39m)\n",
      "File \u001B[0;32m~/PycharmProjects/ETPoF/piv_fun.py:731\u001B[0m, in \u001B[0;36moptical_flow\u001B[0;34m(images, slice_ct, window_ct, max_shift_px, margins, valid_angles, background, sum_rows, use_guess, timing, do_flow_plot, do_displ_plot, do_print_mean)\u001B[0m\n\u001B[1;32m    727\u001B[0m window_set \u001B[38;5;241m=\u001B[39m [np\u001B[38;5;241m.\u001B[39marray_split(row, window_ct[\u001B[38;5;241m1\u001B[39m], axis\u001B[38;5;241m=\u001B[39m\u001B[38;5;241m2\u001B[39m)\n\u001B[1;32m    728\u001B[0m               \u001B[38;5;28;01mfor\u001B[39;00m row \u001B[38;5;129;01min\u001B[39;00m window_set]\n\u001B[1;32m    730\u001B[0m \u001B[38;5;66;03m# For each window, calculate the correlation maps\u001B[39;00m\n\u001B[0;32m--> 731\u001B[0m corr_set \u001B[38;5;241m=\u001B[39m \u001B[43m[\u001B[49m\u001B[43m[\u001B[49m\u001B[43msig\u001B[49m\u001B[38;5;241;43m.\u001B[39;49m\u001B[43mcorrelate\u001B[49m\u001B[43m(\u001B[49m\u001B[43mwindow\u001B[49m\u001B[43m[\u001B[49m\u001B[38;5;241;43m1\u001B[39;49m\u001B[43m]\u001B[49m\u001B[43m,\u001B[49m\u001B[43m \u001B[49m\u001B[43mwindow\u001B[49m\u001B[43m[\u001B[49m\u001B[38;5;241;43m0\u001B[39;49m\u001B[43m]\u001B[49m\u001B[43m)\u001B[49m\u001B[43m \u001B[49m\u001B[38;5;28;43;01mfor\u001B[39;49;00m\u001B[43m \u001B[49m\u001B[43mwindow\u001B[49m\u001B[43m \u001B[49m\u001B[38;5;129;43;01min\u001B[39;49;00m\u001B[43m \u001B[49m\u001B[43mrow\u001B[49m\u001B[43m]\u001B[49m\n\u001B[1;32m    732\u001B[0m \u001B[43m            \u001B[49m\u001B[38;5;28;43;01mfor\u001B[39;49;00m\u001B[43m \u001B[49m\u001B[43mrow\u001B[49m\u001B[43m \u001B[49m\u001B[38;5;129;43;01min\u001B[39;49;00m\u001B[43m \u001B[49m\u001B[43mwindow_set\u001B[49m\u001B[43m]\u001B[49m\n\u001B[1;32m    734\u001B[0m \u001B[38;5;28;01mif\u001B[39;00m sum_rows:\n\u001B[1;32m    735\u001B[0m     \u001B[38;5;66;03m# Sum the correlation windows along the rows\u001B[39;00m\n\u001B[1;32m    736\u001B[0m     corr_set \u001B[38;5;241m=\u001B[39m [np\u001B[38;5;241m.\u001B[39msum(row, axis\u001B[38;5;241m=\u001B[39m\u001B[38;5;241m0\u001B[39m, keepdims\u001B[38;5;241m=\u001B[39m\u001B[38;5;28;01mTrue\u001B[39;00m)\n\u001B[1;32m    737\u001B[0m                 \u001B[38;5;28;01mfor\u001B[39;00m row \u001B[38;5;129;01min\u001B[39;00m corr_set]\n",
      "File \u001B[0;32m~/PycharmProjects/ETPoF/piv_fun.py:731\u001B[0m, in \u001B[0;36m<listcomp>\u001B[0;34m(.0)\u001B[0m\n\u001B[1;32m    727\u001B[0m window_set \u001B[38;5;241m=\u001B[39m [np\u001B[38;5;241m.\u001B[39marray_split(row, window_ct[\u001B[38;5;241m1\u001B[39m], axis\u001B[38;5;241m=\u001B[39m\u001B[38;5;241m2\u001B[39m)\n\u001B[1;32m    728\u001B[0m               \u001B[38;5;28;01mfor\u001B[39;00m row \u001B[38;5;129;01min\u001B[39;00m window_set]\n\u001B[1;32m    730\u001B[0m \u001B[38;5;66;03m# For each window, calculate the correlation maps\u001B[39;00m\n\u001B[0;32m--> 731\u001B[0m corr_set \u001B[38;5;241m=\u001B[39m [\u001B[43m[\u001B[49m\u001B[43msig\u001B[49m\u001B[38;5;241;43m.\u001B[39;49m\u001B[43mcorrelate\u001B[49m\u001B[43m(\u001B[49m\u001B[43mwindow\u001B[49m\u001B[43m[\u001B[49m\u001B[38;5;241;43m1\u001B[39;49m\u001B[43m]\u001B[49m\u001B[43m,\u001B[49m\u001B[43m \u001B[49m\u001B[43mwindow\u001B[49m\u001B[43m[\u001B[49m\u001B[38;5;241;43m0\u001B[39;49m\u001B[43m]\u001B[49m\u001B[43m)\u001B[49m\u001B[43m \u001B[49m\u001B[38;5;28;43;01mfor\u001B[39;49;00m\u001B[43m \u001B[49m\u001B[43mwindow\u001B[49m\u001B[43m \u001B[49m\u001B[38;5;129;43;01min\u001B[39;49;00m\u001B[43m \u001B[49m\u001B[43mrow\u001B[49m\u001B[43m]\u001B[49m\n\u001B[1;32m    732\u001B[0m             \u001B[38;5;28;01mfor\u001B[39;00m row \u001B[38;5;129;01min\u001B[39;00m window_set]\n\u001B[1;32m    734\u001B[0m \u001B[38;5;28;01mif\u001B[39;00m sum_rows:\n\u001B[1;32m    735\u001B[0m     \u001B[38;5;66;03m# Sum the correlation windows along the rows\u001B[39;00m\n\u001B[1;32m    736\u001B[0m     corr_set \u001B[38;5;241m=\u001B[39m [np\u001B[38;5;241m.\u001B[39msum(row, axis\u001B[38;5;241m=\u001B[39m\u001B[38;5;241m0\u001B[39m, keepdims\u001B[38;5;241m=\u001B[39m\u001B[38;5;28;01mTrue\u001B[39;00m)\n\u001B[1;32m    737\u001B[0m                 \u001B[38;5;28;01mfor\u001B[39;00m row \u001B[38;5;129;01min\u001B[39;00m corr_set]\n",
      "File \u001B[0;32m~/PycharmProjects/ETPoF/piv_fun.py:731\u001B[0m, in \u001B[0;36m<listcomp>\u001B[0;34m(.0)\u001B[0m\n\u001B[1;32m    727\u001B[0m window_set \u001B[38;5;241m=\u001B[39m [np\u001B[38;5;241m.\u001B[39marray_split(row, window_ct[\u001B[38;5;241m1\u001B[39m], axis\u001B[38;5;241m=\u001B[39m\u001B[38;5;241m2\u001B[39m)\n\u001B[1;32m    728\u001B[0m               \u001B[38;5;28;01mfor\u001B[39;00m row \u001B[38;5;129;01min\u001B[39;00m window_set]\n\u001B[1;32m    730\u001B[0m \u001B[38;5;66;03m# For each window, calculate the correlation maps\u001B[39;00m\n\u001B[0;32m--> 731\u001B[0m corr_set \u001B[38;5;241m=\u001B[39m [[\u001B[43msig\u001B[49m\u001B[38;5;241;43m.\u001B[39;49m\u001B[43mcorrelate\u001B[49m\u001B[43m(\u001B[49m\u001B[43mwindow\u001B[49m\u001B[43m[\u001B[49m\u001B[38;5;241;43m1\u001B[39;49m\u001B[43m]\u001B[49m\u001B[43m,\u001B[49m\u001B[43m \u001B[49m\u001B[43mwindow\u001B[49m\u001B[43m[\u001B[49m\u001B[38;5;241;43m0\u001B[39;49m\u001B[43m]\u001B[49m\u001B[43m)\u001B[49m \u001B[38;5;28;01mfor\u001B[39;00m window \u001B[38;5;129;01min\u001B[39;00m row]\n\u001B[1;32m    732\u001B[0m             \u001B[38;5;28;01mfor\u001B[39;00m row \u001B[38;5;129;01min\u001B[39;00m window_set]\n\u001B[1;32m    734\u001B[0m \u001B[38;5;28;01mif\u001B[39;00m sum_rows:\n\u001B[1;32m    735\u001B[0m     \u001B[38;5;66;03m# Sum the correlation windows along the rows\u001B[39;00m\n\u001B[1;32m    736\u001B[0m     corr_set \u001B[38;5;241m=\u001B[39m [np\u001B[38;5;241m.\u001B[39msum(row, axis\u001B[38;5;241m=\u001B[39m\u001B[38;5;241m0\u001B[39m, keepdims\u001B[38;5;241m=\u001B[39m\u001B[38;5;28;01mTrue\u001B[39;00m)\n\u001B[1;32m    737\u001B[0m                 \u001B[38;5;28;01mfor\u001B[39;00m row \u001B[38;5;129;01min\u001B[39;00m corr_set]\n",
      "File \u001B[0;32m~/miniconda3/lib/python3.11/site-packages/scipy/signal/_signaltools.py:242\u001B[0m, in \u001B[0;36mcorrelate\u001B[0;34m(in1, in2, mode, method)\u001B[0m\n\u001B[1;32m    240\u001B[0m \u001B[38;5;66;03m# this either calls fftconvolve or this function with method=='direct'\u001B[39;00m\n\u001B[1;32m    241\u001B[0m \u001B[38;5;28;01mif\u001B[39;00m method \u001B[38;5;129;01min\u001B[39;00m (\u001B[38;5;124m'\u001B[39m\u001B[38;5;124mfft\u001B[39m\u001B[38;5;124m'\u001B[39m, \u001B[38;5;124m'\u001B[39m\u001B[38;5;124mauto\u001B[39m\u001B[38;5;124m'\u001B[39m):\n\u001B[0;32m--> 242\u001B[0m     \u001B[38;5;28;01mreturn\u001B[39;00m \u001B[43mconvolve\u001B[49m\u001B[43m(\u001B[49m\u001B[43min1\u001B[49m\u001B[43m,\u001B[49m\u001B[43m \u001B[49m\u001B[43m_reverse_and_conj\u001B[49m\u001B[43m(\u001B[49m\u001B[43min2\u001B[49m\u001B[43m)\u001B[49m\u001B[43m,\u001B[49m\u001B[43m \u001B[49m\u001B[43mmode\u001B[49m\u001B[43m,\u001B[49m\u001B[43m \u001B[49m\u001B[43mmethod\u001B[49m\u001B[43m)\u001B[49m\n\u001B[1;32m    244\u001B[0m \u001B[38;5;28;01melif\u001B[39;00m method \u001B[38;5;241m==\u001B[39m \u001B[38;5;124m'\u001B[39m\u001B[38;5;124mdirect\u001B[39m\u001B[38;5;124m'\u001B[39m:\n\u001B[1;32m    245\u001B[0m     \u001B[38;5;66;03m# fastpath to faster numpy.correlate for 1d inputs when possible\u001B[39;00m\n\u001B[1;32m    246\u001B[0m     \u001B[38;5;28;01mif\u001B[39;00m _np_conv_ok(in1, in2, mode):\n",
      "File \u001B[0;32m~/miniconda3/lib/python3.11/site-packages/scipy/signal/_signaltools.py:1414\u001B[0m, in \u001B[0;36mconvolve\u001B[0;34m(in1, in2, mode, method)\u001B[0m\n\u001B[1;32m   1411\u001B[0m     method \u001B[38;5;241m=\u001B[39m choose_conv_method(volume, kernel, mode\u001B[38;5;241m=\u001B[39mmode)\n\u001B[1;32m   1413\u001B[0m \u001B[38;5;28;01mif\u001B[39;00m method \u001B[38;5;241m==\u001B[39m \u001B[38;5;124m'\u001B[39m\u001B[38;5;124mfft\u001B[39m\u001B[38;5;124m'\u001B[39m:\n\u001B[0;32m-> 1414\u001B[0m     out \u001B[38;5;241m=\u001B[39m \u001B[43mfftconvolve\u001B[49m\u001B[43m(\u001B[49m\u001B[43mvolume\u001B[49m\u001B[43m,\u001B[49m\u001B[43m \u001B[49m\u001B[43mkernel\u001B[49m\u001B[43m,\u001B[49m\u001B[43m \u001B[49m\u001B[43mmode\u001B[49m\u001B[38;5;241;43m=\u001B[39;49m\u001B[43mmode\u001B[49m\u001B[43m)\u001B[49m\n\u001B[1;32m   1415\u001B[0m     result_type \u001B[38;5;241m=\u001B[39m np\u001B[38;5;241m.\u001B[39mresult_type(volume, kernel)\n\u001B[1;32m   1416\u001B[0m     \u001B[38;5;28;01mif\u001B[39;00m result_type\u001B[38;5;241m.\u001B[39mkind \u001B[38;5;129;01min\u001B[39;00m {\u001B[38;5;124m'\u001B[39m\u001B[38;5;124mu\u001B[39m\u001B[38;5;124m'\u001B[39m, \u001B[38;5;124m'\u001B[39m\u001B[38;5;124mi\u001B[39m\u001B[38;5;124m'\u001B[39m}:\n",
      "File \u001B[0;32m~/miniconda3/lib/python3.11/site-packages/scipy/signal/_signaltools.py:670\u001B[0m, in \u001B[0;36mfftconvolve\u001B[0;34m(in1, in2, mode, axes)\u001B[0m\n\u001B[1;32m    665\u001B[0m s2 \u001B[38;5;241m=\u001B[39m in2\u001B[38;5;241m.\u001B[39mshape\n\u001B[1;32m    667\u001B[0m shape \u001B[38;5;241m=\u001B[39m [\u001B[38;5;28mmax\u001B[39m((s1[i], s2[i])) \u001B[38;5;28;01mif\u001B[39;00m i \u001B[38;5;129;01mnot\u001B[39;00m \u001B[38;5;129;01min\u001B[39;00m axes \u001B[38;5;28;01melse\u001B[39;00m s1[i] \u001B[38;5;241m+\u001B[39m s2[i] \u001B[38;5;241m-\u001B[39m \u001B[38;5;241m1\u001B[39m\n\u001B[1;32m    668\u001B[0m          \u001B[38;5;28;01mfor\u001B[39;00m i \u001B[38;5;129;01min\u001B[39;00m \u001B[38;5;28mrange\u001B[39m(in1\u001B[38;5;241m.\u001B[39mndim)]\n\u001B[0;32m--> 670\u001B[0m ret \u001B[38;5;241m=\u001B[39m \u001B[43m_freq_domain_conv\u001B[49m\u001B[43m(\u001B[49m\u001B[43min1\u001B[49m\u001B[43m,\u001B[49m\u001B[43m \u001B[49m\u001B[43min2\u001B[49m\u001B[43m,\u001B[49m\u001B[43m \u001B[49m\u001B[43maxes\u001B[49m\u001B[43m,\u001B[49m\u001B[43m \u001B[49m\u001B[43mshape\u001B[49m\u001B[43m,\u001B[49m\u001B[43m \u001B[49m\u001B[43mcalc_fast_len\u001B[49m\u001B[38;5;241;43m=\u001B[39;49m\u001B[38;5;28;43;01mTrue\u001B[39;49;00m\u001B[43m)\u001B[49m\n\u001B[1;32m    672\u001B[0m \u001B[38;5;28;01mreturn\u001B[39;00m _apply_conv_mode(ret, s1, s2, mode, axes)\n",
      "File \u001B[0;32m~/miniconda3/lib/python3.11/site-packages/scipy/signal/_signaltools.py:508\u001B[0m, in \u001B[0;36m_freq_domain_conv\u001B[0;34m(in1, in2, axes, shape, calc_fast_len)\u001B[0m\n\u001B[1;32m    505\u001B[0m     fft, ifft \u001B[38;5;241m=\u001B[39m sp_fft\u001B[38;5;241m.\u001B[39mfftn, sp_fft\u001B[38;5;241m.\u001B[39mifftn\n\u001B[1;32m    507\u001B[0m sp1 \u001B[38;5;241m=\u001B[39m fft(in1, fshape, axes\u001B[38;5;241m=\u001B[39maxes)\n\u001B[0;32m--> 508\u001B[0m sp2 \u001B[38;5;241m=\u001B[39m \u001B[43mfft\u001B[49m\u001B[43m(\u001B[49m\u001B[43min2\u001B[49m\u001B[43m,\u001B[49m\u001B[43m \u001B[49m\u001B[43mfshape\u001B[49m\u001B[43m,\u001B[49m\u001B[43m \u001B[49m\u001B[43maxes\u001B[49m\u001B[38;5;241;43m=\u001B[39;49m\u001B[43maxes\u001B[49m\u001B[43m)\u001B[49m\n\u001B[1;32m    510\u001B[0m ret \u001B[38;5;241m=\u001B[39m ifft(sp1 \u001B[38;5;241m*\u001B[39m sp2, fshape, axes\u001B[38;5;241m=\u001B[39maxes)\n\u001B[1;32m    512\u001B[0m \u001B[38;5;28;01mif\u001B[39;00m calc_fast_len:\n",
      "\u001B[0;31mKeyboardInterrupt\u001B[0m: "
     ]
    }
   ],
   "source": [
    "# Parameters\n",
    "position_nr = 4\n",
    "series_nrs = [2, 3, 4]\n",
    "margins_all = [[0, 0, 0, 0],\n",
    "               [48, 496 - 443, 0, 0],\n",
    "               [60, 496 - 452, 0, 0],\n",
    "               [10, 496 - 480, 0, 0],\n",
    "               [0, 0, 128, 0]]\n",
    "max_shift_px = 100\n",
    "slice_ct = 8\n",
    "window_ct = (24, 32)\n",
    "\n",
    "# Start batch PIV\n",
    "piv.batch_optical_flow(position_nr, series_nrs, slice_ct, window_ct,\n",
    "                       max_shift_px, margins_all[position_nr])"
   ],
   "metadata": {
    "collapsed": true,
    "ExecuteTime": {
     "start_time": "2024-04-15T19:05:06.999168Z"
    }
   },
   "id": "initial_id",
   "execution_count": 11
  },
  {
   "cell_type": "code",
   "outputs": [],
   "source": [],
   "metadata": {
    "collapsed": false
   },
   "id": "b5e0d568392aa8c0"
  }
 ],
 "metadata": {
  "kernelspec": {
   "display_name": "Python 3",
   "language": "python",
   "name": "python3"
  },
  "language_info": {
   "codemirror_mode": {
    "name": "ipython",
    "version": 2
   },
   "file_extension": ".py",
   "mimetype": "text/x-python",
   "name": "python",
   "nbconvert_exporter": "python",
   "pygments_lexer": "ipython2",
   "version": "2.7.6"
  }
 },
 "nbformat": 4,
 "nbformat_minor": 5
}
