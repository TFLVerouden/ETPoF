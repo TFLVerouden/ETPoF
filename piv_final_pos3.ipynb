{
 "cells": [
  {
   "cell_type": "code",
   "execution_count": 4,
   "id": "1fa16425bf314771",
   "metadata": {
    "collapsed": false,
    "ExecuteTime": {
     "end_time": "2024-04-15T19:00:48.886419Z",
     "start_time": "2024-04-15T19:00:48.865518Z"
    }
   },
   "outputs": [],
   "source": [
    "import numpy as np\n",
    "import matplotlib.pyplot as plt\n",
    "from scipy import signal as sig\n",
    "import piv_fun as piv"
   ]
  },
  {
   "cell_type": "code",
   "outputs": [
    {
     "name": "stdout",
     "output_type": "stream",
     "text": [
      "The autoreload extension is already loaded. To reload it, use:\n",
      "  %reload_ext autoreload\n"
     ]
    }
   ],
   "source": [
    "%load_ext autoreload\n",
    "%autoreload 2"
   ],
   "metadata": {
    "collapsed": false,
    "ExecuteTime": {
     "end_time": "2024-04-15T19:00:49.441076Z",
     "start_time": "2024-04-15T19:00:49.424438Z"
    }
   },
   "id": "3c661b748ada7d97",
   "execution_count": 5
  },
  {
   "cell_type": "code",
   "outputs": [
    {
     "name": "stdout",
     "output_type": "stream",
     "text": [
      "Processing pos4-2\n",
      "-----------------\n"
     ]
    },
    {
     "name": "stderr",
     "output_type": "stream",
     "text": [
      "Reading images: 100%|██████████| 12933/12933 [00:14<00:00, 894.28it/s]\n",
      "Subtracting background: 100%|██████████| 12933/12933 [00:14<00:00, 882.33it/s]\n"
     ]
    }
   ],
   "source": [
    "# Parameters\n",
    "position_nr = 4\n",
    "series_nrs = [2, 3, 4]\n",
    "margins_all = [[0, 0, 0, 0],\n",
    "               [48, 496 - 443, 0, 0],\n",
    "               [60, 496 - 452, 0, 0],\n",
    "               [10, 496 - 480, 0, 0],\n",
    "               [0, 0, 128, 0]]\n",
    "max_shift_px = 100\n",
    "slice_ct = 8\n",
    "window_ct = (24, 32)\n",
    "\n",
    "# Start batch PIV\n",
    "piv.batch_optical_flow(position_nr, series_nrs, slice_ct, window_ct,\n",
    "                       max_shift_px, margins_all[position_nr])"
   ],
   "metadata": {
    "collapsed": true,
    "is_executing": true,
    "ExecuteTime": {
     "start_time": "2024-04-15T19:05:06.999168Z"
    }
   },
   "id": "initial_id",
   "execution_count": null
  },
  {
   "cell_type": "code",
   "outputs": [],
   "source": [],
   "metadata": {
    "collapsed": false
   },
   "id": "b5e0d568392aa8c0"
  }
 ],
 "metadata": {
  "kernelspec": {
   "display_name": "Python 3",
   "language": "python",
   "name": "python3"
  },
  "language_info": {
   "codemirror_mode": {
    "name": "ipython",
    "version": 2
   },
   "file_extension": ".py",
   "mimetype": "text/x-python",
   "name": "python",
   "nbconvert_exporter": "python",
   "pygments_lexer": "ipython2",
   "version": "2.7.6"
  }
 },
 "nbformat": 4,
 "nbformat_minor": 5
}
