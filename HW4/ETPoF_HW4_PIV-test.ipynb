{
 "cells": [
  {
   "cell_type": "code",
   "execution_count": 3,
   "id": "initial_id",
   "metadata": {
    "collapsed": true,
    "ExecuteTime": {
     "end_time": "2024-03-26T09:13:18.023952Z",
     "start_time": "2024-03-26T09:13:18.017189Z"
    }
   },
   "outputs": [],
   "source": [
    "import numpy as np\n",
    "import matplotlib.pyplot as plt\n",
    "import cv2 as cv\n",
    "import os\n",
    "from natsort import natsorted\n",
    "\n",
    "\n",
    "\n",
    "### def read_image_directory()\n",
    "directory = 'PIVimages/crosscorrelation'\n",
    "prefix = None\n",
    "type = 'png'\n",
    "\n",
    "# Get a list of files in the directory\n",
    "files = os.listdir(directory)\n",
    "\n",
    "# If a prefix is specified, filter the list of files\n",
    "if prefix is not None:\n",
    "    files = [f for f in files if f.startswith(prefix)]\n",
    "    \n",
    "# If a type is specified, filter the list of files\n",
    "if type is not None:\n",
    "    files = [f for f in files if f.endswith(type)]\n",
    "    \n",
    "# Sort the files\n",
    "files = natsorted(files)\n",
    "\n",
    "# Read the images and store them in a list\n",
    "images = [cv.imread(os.path.join(directory, f), \n",
    "                    cv.IMREAD_GRAYSCALE) for f in files]"
   ]
  },
  {
   "cell_type": "code",
   "outputs": [],
   "source": [
    "# Count the number of images, make sure only two go to the next function"
   ],
   "metadata": {
    "collapsed": false
   },
   "id": "324917479eb7b795"
  },
  {
   "cell_type": "code",
   "outputs": [],
   "source": [],
   "metadata": {
    "collapsed": false
   },
   "id": "ee1f3d9de33846f"
  }
 ],
 "metadata": {
  "kernelspec": {
   "display_name": "Python 3",
   "language": "python",
   "name": "python3"
  },
  "language_info": {
   "codemirror_mode": {
    "name": "ipython",
    "version": 2
   },
   "file_extension": ".py",
   "mimetype": "text/x-python",
   "name": "python",
   "nbconvert_exporter": "python",
   "pygments_lexer": "ipython2",
   "version": "2.7.6"
  }
 },
 "nbformat": 4,
 "nbformat_minor": 5
}
