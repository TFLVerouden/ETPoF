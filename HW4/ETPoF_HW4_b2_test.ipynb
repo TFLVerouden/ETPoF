{
 "cells": [
  {
   "cell_type": "code",
   "outputs": [],
   "source": [
    "# Ensure the module is automatically reloaded when rerunning the import command.\n",
    "# %load_ext autoreload\n",
    "# %autoreload 2\n",
    "\n",
    "# TODO: add calibration/speed stuff"
   ],
   "metadata": {
    "collapsed": false,
    "ExecuteTime": {
     "end_time": "2024-03-31T15:56:51.139231Z",
     "start_time": "2024-03-31T15:56:51.136428Z"
    }
   },
   "id": "b48b2fccc7a9a132",
   "execution_count": 1
  },
  {
   "cell_type": "code",
   "execution_count": 2,
   "id": "initial_id",
   "metadata": {
    "collapsed": true,
    "ExecuteTime": {
     "end_time": "2024-03-31T15:56:51.730450Z",
     "start_time": "2024-03-31T15:56:51.140408Z"
    }
   },
   "outputs": [],
   "source": [
    "import matplotlib.pyplot as plt\n",
    "import piv_functions as piv\n",
    "import numpy as np\n",
    "directory = 'PIVimages/shearflow'\n",
    "prefix = None\n",
    "type = 'png'\n",
    "images = piv.read_image_directory(directory, prefix, type)"
   ]
  },
  {
   "cell_type": "code",
   "outputs": [],
   "source": [
    "correlation = piv.correlate_image_pair(images[0], images[1], plot=False)"
   ],
   "metadata": {
    "collapsed": false,
    "ExecuteTime": {
     "end_time": "2024-03-31T15:56:51.811696Z",
     "start_time": "2024-03-31T15:56:51.731020Z"
    }
   },
   "id": "6cd028e6b9c4699d",
   "execution_count": 3
  },
  {
   "cell_type": "code",
   "outputs": [],
   "source": [
    "displacement = piv.find_displacement(correlation)"
   ],
   "metadata": {
    "collapsed": false,
    "ExecuteTime": {
     "end_time": "2024-03-31T15:56:51.823535Z",
     "start_time": "2024-03-31T15:56:51.812366Z"
    }
   },
   "id": "51813598bc09f0db",
   "execution_count": 4
  },
  {
   "cell_type": "code",
   "outputs": [],
   "source": [
    "window_size = 128\n",
    "windows0, coordinates0 = piv.divide_in_windows(images[0], (window_size, window_size))\n",
    "windows1, coordinates1 = piv.divide_in_windows(images[1], (window_size, window_size))"
   ],
   "metadata": {
    "collapsed": false,
    "ExecuteTime": {
     "end_time": "2024-03-31T15:56:51.827751Z",
     "start_time": "2024-03-31T15:56:51.824830Z"
    }
   },
   "id": "c0527fefde8f9d6e",
   "execution_count": 5
  },
  {
   "cell_type": "code",
   "outputs": [
    {
     "data": {
      "text/plain": "(255, 255)"
     },
     "execution_count": 15,
     "metadata": {},
     "output_type": "execute_result"
    }
   ],
   "source": [
    "piv.correlate_image_pair(windows0[1,1], windows1[1,1]).shape"
   ],
   "metadata": {
    "collapsed": false,
    "ExecuteTime": {
     "end_time": "2024-03-31T16:01:53.438901Z",
     "start_time": "2024-03-31T16:01:53.431989Z"
    }
   },
   "id": "ee78667fe650f2ca",
   "execution_count": 15
  },
  {
   "cell_type": "code",
   "outputs": [],
   "source": [
    "# Calculate the correlation of each window j,i in frame 0 with the \n",
    "# corresponding window in frame 1\n",
    "correlations = np.array([[piv.correlate_image_pair(windows0[j, i], \n",
    "                                                   windows1[j, i]) for i in \n",
    "                          range(len(windows0[0]))] for j in range(len(windows0[1]))])\n",
    "\n",
    "# Calculate the displacement of each window j,i in frame 0 with the\n",
    "# corresponding window in frame 1\n",
    "displacements = np.array([[piv.find_displacement(correlation) for correlation in row] for row in correlations])"
   ],
   "metadata": {
    "collapsed": false,
    "ExecuteTime": {
     "end_time": "2024-03-31T16:04:19.191868Z",
     "start_time": "2024-03-31T16:04:19.091237Z"
    }
   },
   "id": "4179120e16a6fd5d",
   "execution_count": 17
  },
  {
   "cell_type": "code",
   "outputs": [
    {
     "data": {
      "text/plain": "<Figure size 640x480 with 1 Axes>",
      "image/png": "[encoded data removed]"
     },
     "metadata": {},
     "output_type": "display_data"
    }
   ],
   "source": [
    "# Plot all displacements vectors at the center of each window\n",
    "fig, ax = plt.subplots()\n",
    "\n",
    "# Show a grid with the outline of each window and an arrow in the centre \n",
    "# indicating the displacement\n",
    "for j in range(len(windows0[0])):\n",
    "    for i in range(len(windows0[1])):\n",
    "        # Calculate the center of the window\n",
    "        center = (coordinates0[j, i][0] + window_size // 2, coordinates0[j, i][1] + window_size // 2)\n",
    "        # Calculate the end of the arrow\n",
    "        end = (center[0] + displacements[j, i][0], center[1] + displacements[j, i][1])\n",
    "        # Plot the arrow\n",
    "        ax.arrow(center[0], center[1], displacements[j, i][0], \n",
    "                 displacements[j, i][1], head_width=10, head_length=7, \n",
    "                 fc='k', ec='k', lw=0.5)\n",
    "        # Plot the window\n",
    "        ax.add_patch(plt.Rectangle((coordinates0[j, i][0], coordinates0[j, \n",
    "        i][1]), window_size, window_size, fill=None, edgecolor='g'))\n",
    "        \n",
    "# Aspect ratio should be 1\n",
    "ax.set_aspect('equal')\n",
    "\n",
    "ax.set_xlabel('x [px]')\n",
    "ax.set_ylabel('y [px]')\n",
    "ax.set_title('Displacement vectors at each window')\n",
    "\n",
    "plt.show()\n"
   ],
   "metadata": {
    "collapsed": false,
    "ExecuteTime": {
     "end_time": "2024-03-31T16:08:11.282250Z",
     "start_time": "2024-03-31T16:08:11.193407Z"
    }
   },
   "id": "d0b0ea8757a36d01",
   "execution_count": 31
  },
  {
   "cell_type": "code",
   "outputs": [],
   "source": [
    "np.array([2, 1]) + 2"
   ],
   "metadata": {
    "collapsed": false,
    "ExecuteTime": {
     "end_time": "2024-03-31T15:56:52.067676Z",
     "start_time": "2024-03-31T15:56:52.067626Z"
    }
   },
   "id": "f1534b104b9c32bd",
   "execution_count": null
  }
 ],
 "metadata": {
  "kernelspec": {
   "display_name": "Python 3",
   "language": "python",
   "name": "python3"
  },
  "language_info": {
   "codemirror_mode": {
    "name": "ipython",
    "version": 2
   },
   "file_extension": ".py",
   "mimetype": "text/x-python",
   "name": "python",
   "nbconvert_exporter": "python",
   "pygments_lexer": "ipython2",
   "version": "2.7.6"
  }
 },
 "nbformat": 4,
 "nbformat_minor": 5
}
